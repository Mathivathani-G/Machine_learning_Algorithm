{
 "cells": [
  {
   "cell_type": "code",
   "execution_count": 3,
   "id": "cfaf30f9-6d97-495a-aff5-f0a5c6ba6d41",
   "metadata": {},
   "outputs": [
    {
     "name": "stdout",
     "output_type": "stream",
     "text": [
      "Inputs Dataframe shape   : (768, 8)\n",
      "Eigen values:\n",
      " [2.09437995 1.73121014 0.41981618 0.40446205 0.68262839 0.76234439\n",
      " 0.87552904 1.02962987]\n",
      "Eigen values Shape: (8,)\n",
      "Eigen Vector Shape: (8, 8)\n",
      "3\n"
     ]
    }
   ],
   "source": [
    "import pandas as pd\n",
    "import numpy as np\n",
    "\n",
    "# Load input features from CSV\n",
    "data = pd.read_csv(\"diabetes.csv\")\n",
    "\n",
    "# Assuming the input features are columns in the CSV\n",
    "X = data.drop(columns=['Outcome'])  # Adjust the target column name accordingly\n",
    "print('Inputs Dataframe shape   :', X.shape)\n",
    "\n",
    "# Calculate mean and standard deviation\n",
    "X_mean = X.mean()\n",
    "X_std = X.std()\n",
    "\n",
    "# Standardization\n",
    "Z = (X - X_mean) / X_std\n",
    "\n",
    "# Calculate covariance matrix\n",
    "c = Z.cov()\n",
    "\n",
    "# Calculate eigenvalues and eigenvectors\n",
    "eigenvalues, eigenvectors = np.linalg.eig(c)\n",
    "print('Eigen values:\\n', eigenvalues)\n",
    "print('Eigen values Shape:', eigenvalues.shape)\n",
    "print('Eigen Vector Shape:', eigenvectors.shape)\n",
    "\n",
    "# Sort eigenvalues and eigenvectors\n",
    "idx = eigenvalues.argsort()[::-1]\n",
    "eigenvalues = eigenvalues[idx]\n",
    "eigenvectors = eigenvectors[:, idx]\n",
    "\n",
    "# Calculate explained variance\n",
    "explained_var = np.cumsum(eigenvalues) / np.sum(eigenvalues)\n",
    "\n",
    "# Determine number of components explaining 50% variance\n",
    "n_components = np.argmax(explained_var >= 0.50) + 1\n",
    "print(n_components)\n"
   ]
  },
  {
   "cell_type": "code",
   "execution_count": null,
   "id": "2a0dffe2-0107-4ce2-97ae-98652614aace",
   "metadata": {},
   "outputs": [],
   "source": []
  }
 ],
 "metadata": {
  "kernelspec": {
   "display_name": "Python 3 (ipykernel)",
   "language": "python",
   "name": "python3"
  },
  "language_info": {
   "codemirror_mode": {
    "name": "ipython",
    "version": 3
   },
   "file_extension": ".py",
   "mimetype": "text/x-python",
   "name": "python",
   "nbconvert_exporter": "python",
   "pygments_lexer": "ipython3",
   "version": "3.12.1"
  }
 },
 "nbformat": 4,
 "nbformat_minor": 5
}
