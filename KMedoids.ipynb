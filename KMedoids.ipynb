{
 "cells": [
  {
   "cell_type": "code",
   "execution_count": null,
   "id": "0772fe2d-7bc7-4c96-8248-71b3e2ac700f",
   "metadata": {},
   "outputs": [],
   "source": [
    "import matplotlib.pyplot as plt\n",
    "import pandas as pd\n",
    "from sklearn_extra.cluster import KMedoids\n",
    "import matplotlib.pyplot as pl\n",
    "import matplotlib.pyplot as p\n",
    "\n",
    "# Load the dataset\n",
    "dataset = pd.read_csv('diabetes.csv')\n",
    "X = dataset.iloc[:, [1,3]].values\n",
    "\n",
    "# Using the elbow method to find the optimal number of clusters\n",
    "wcss = []\n",
    "for i in range(1, 11):\n",
    "    kmedoids = KMedoids(n_clusters=i, init='k-medoids++', random_state=42)\n",
    "    kmedoids.fit(X)\n",
    "    wcss.append(kmedoids.inertia_)\n",
    "    \n",
    "plt.plot(range(1, 11), wcss)\n",
    "plt.title('The Elbow Method')\n",
    "plt.xlabel('Number of clusters')\n",
    "plt.ylabel('WCSS')\n",
    "plt.show()\n",
    "\n",
    "# Training the K-Medoids model on the dataset\n",
    "kmedoids = KMedoids(n_clusters=2, init='k-medoids++', random_state=0)\n",
    "y_kmedoids = kmedoids.fit_predict(X)\n",
    "print(y_kmedoids)\n",
    "medoids = kmedoids.cluster_centers_\n",
    "print(\"Medoids' values:\")\n",
    "print(medoids)\n",
    "\n",
    "# Visualising the clusters\n",
    "plt.scatter(X[y_kmedoids == 1, 0], X[y_kmedoids == 1, 1], s=100, c='blue', label='Cluster 2')\n",
    "plt.scatter(kmedoids.cluster_centers_[:, 0], kmedoids.cluster_centers_[:, 1],marker='X', s=300, c='red', label='Centroids')\n",
    "plt.title('Clusters')\n",
    "plt.xlabel('feature 1')\n",
    "plt.ylabel('feature 2')\n",
    "plt.legend()\n",
    "plt.show()\n",
    "pl.scatter(X[y_kmedoids == 0, 0], X[y_kmedoids == 0, 1], s=100, c='yellow', label='Cluster 1')\n",
    "pl.scatter(kmedoids.cluster_centers_[:, 0], kmedoids.cluster_centers_[:, 1],marker='X', s=300, c='red', label='Centroids')\n",
    "pl.legend()\n",
    "pl.show()\n",
    "p.scatter(X[y_kmedoids == 0, 0], X[y_kmedoids == 0, 1], s=100, c='yellow', label='Cluster 1')\n",
    "p.scatter(X[y_kmedoids == 1, 0], X[y_kmedoids == 1, 1], s=100, c='blue', label='Cluster 2')\n",
    "p.scatter(kmedoids.cluster_centers_[:, 0], kmedoids.cluster_centers_[:, 1],marker='X', s=300, c='red', label='Centroids')\n",
    "p.legend()\n",
    "p.show()\n",
    "\n"
   ]
  }
 ],
 "metadata": {
  "kernelspec": {
   "display_name": "Python 3 (ipykernel)",
   "language": "python",
   "name": "python3"
  },
  "language_info": {
   "codemirror_mode": {
    "name": "ipython",
    "version": 3
   },
   "file_extension": ".py",
   "mimetype": "text/x-python",
   "name": "python",
   "nbconvert_exporter": "python",
   "pygments_lexer": "ipython3",
   "version": "3.12.1"
  }
 },
 "nbformat": 4,
 "nbformat_minor": 5
}
